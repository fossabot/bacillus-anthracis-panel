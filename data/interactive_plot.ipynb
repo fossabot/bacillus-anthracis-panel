{
 "cells": [
  {
   "cell_type": "code",
   "execution_count": null,
   "metadata": {
    "collapsed": true
   },
   "outputs": [],
   "source": [
    "import pandas as pd\n",
    "import numpy as np\n",
    "import matplotlib.pyplot as plt"
   ]
  },
  {
   "cell_type": "code",
   "execution_count": null,
   "metadata": {
    "collapsed": false
   },
   "outputs": [],
   "source": [
    "# Read in each of the data frames with the data for the plot\n",
    "comb_dat = pd.read_csv('samples.csv')\n",
    "comb_dat.loc[pd.isnull(comb_dat[\"name\"]), \"name\"] = None\n",
    "comb_dat.loc[pd.isnull(comb_dat[\"species\"]), \"species\"] = 'Metagenomic'\n",
    "comb_dat.loc[comb_dat['species'] == 'Metagenomic', \"color\"] = \"#7C1B96\"\n",
    "comb_dat.loc[pd.notnull(comb_dat[\"name\"]), \"color\"] = \"#EE9F22\"  # pathomap\n",
    "comb_dat.loc[comb_dat['species'] == 'Bacillus thuringiensis', \"color\"] = \"#330ECD\"\n",
    "comb_dat.loc[comb_dat['species'] == 'Bacillus anthracis', \"color\"] = \"#9A1922\"\n",
    "comb_dat.loc[comb_dat['species'] == 'Bacillus cereus', \"color\"] = \"#4C8ECD\"\n",
    "comb_dat.loc[comb_dat['species'] == 'Bacillus mycoides', \"color\"] = \"#40C5CD\"\n",
    "comb_dat.loc[comb_dat['species'] == 'Bacillus subtilis', \"color\"] = \"#00B1CD\""
   ]
  },
  {
   "cell_type": "code",
   "execution_count": null,
   "metadata": {
    "collapsed": true
   },
   "outputs": [],
   "source": [
    "import mpld3\n",
    "from mpld3 import plugins\n",
    "mpld3.enable_notebook()"
   ]
  },
  {
   "cell_type": "code",
   "execution_count": null,
   "metadata": {
    "collapsed": true
   },
   "outputs": [],
   "source": [
    "import matplotlib\n",
    "from mpld3.utils import get_id\n",
    "\n",
    "class PointHTMLExtendedTooltip(plugins.PluginBase):\n",
    "    \"\"\"Extension of PointHTMLTooltip from mpld3\n",
    "    \"\"\"\n",
    "\n",
    "    JAVASCRIPT = \"\"\"\n",
    "    mpld3.register_plugin(\"htmltooltip\", HtmlTooltipPlugin);\n",
    "    HtmlTooltipPlugin.prototype = Object.create(mpld3.Plugin.prototype);\n",
    "    HtmlTooltipPlugin.prototype.constructor = HtmlTooltipPlugin;\n",
    "    HtmlTooltipPlugin.prototype.requiredProps = [\"id\"];\n",
    "    HtmlTooltipPlugin.prototype.defaultProps = {labels:null,\n",
    "                                                hoffset:0,\n",
    "                                                voffset:10,\n",
    "                                                ext_links:null};\n",
    "    function HtmlTooltipPlugin(fig, props){\n",
    "        mpld3.Plugin.call(this, fig, props);\n",
    "    };\n",
    "    HtmlTooltipPlugin.prototype.draw = function(){\n",
    "       var obj = mpld3.get_element(this.props.id);\n",
    "       var labels = this.props.labels;\n",
    "       var ext_links = this.props.ext_links;\n",
    "       var tooltip = d3.select(\"body\").append(\"div\")\n",
    "                    .attr(\"class\", \"mpld3-tooltip\")\n",
    "                    .style(\"position\", \"absolute\")\n",
    "                    .style(\"z-index\", \"10\")\n",
    "                    .style(\"visibility\", \"hidden\");\n",
    "       obj.elements()\n",
    "           .on(\"mousedown\", function(d, i){\n",
    "                               window.open(ext_links[i], \"_blank\");})\n",
    "           .on(\"mouseover\", function(d, i){\n",
    "                              tooltip.html(labels[i])\n",
    "                                     .style(\"visibility\", \"visible\");})\n",
    "           .on(\"mousemove\", function(d, i){\n",
    "                  tooltip\n",
    "                    .style(\"top\", d3.event.pageY + this.props.voffset + \"px\")\n",
    "                    .style(\"left\",d3.event.pageX + this.props.hoffset + \"px\");\n",
    "                 }.bind(this))\n",
    "           .on(\"mouseout\",  function(d, i){\n",
    "                           tooltip.style(\"visibility\", \"hidden\");});\n",
    "    };\n",
    "    \"\"\"\n",
    "\n",
    "    def __init__(self, points, labels=None, ext_links=None,\n",
    "                 hoffset=0, voffset=10, css=None):\n",
    "        self.points = points\n",
    "        self.labels = labels\n",
    "        self.ext_links = ext_links\n",
    "        self.voffset = voffset\n",
    "        self.hoffset = hoffset\n",
    "        self.css_ = css or \"\"\n",
    "        if isinstance(points, matplotlib.lines.Line2D):\n",
    "            suffix = \"pts\"\n",
    "        else:\n",
    "            suffix = None\n",
    "        self.dict_ = {\"type\": \"htmltooltip\",\n",
    "                      \"id\": get_id(points, suffix),\n",
    "                      \"labels\": labels,\n",
    "                      \"hoffset\": hoffset,\n",
    "                      \"voffset\": voffset,\n",
    "                      \"ext_links\": ext_links}"
   ]
  },
  {
   "cell_type": "code",
   "execution_count": null,
   "metadata": {
    "collapsed": false
   },
   "outputs": [],
   "source": [
    "# Add a nice custom label to display on rollover\n",
    "comb_dat[\"label\"] = None\n",
    "for ix, vals in comb_dat.iterrows(): \n",
    "    comb_dat.loc[ix, \"label\"] = (\"%s\" % (vals[\"name\"] or vals[\"species\"]))"
   ]
  },
  {
   "cell_type": "code",
   "execution_count": null,
   "metadata": {
    "collapsed": false
   },
   "outputs": [],
   "source": [
    "comb_dat[\"xvals\"] = comb_dat[\"bacillus_depth\"].apply(np.log10)\n",
    "comb_dat[\"yvals\"] = comb_dat[\"mean_depth\"].apply(np.log10)"
   ]
  },
  {
   "cell_type": "code",
   "execution_count": null,
   "metadata": {
    "collapsed": false
   },
   "outputs": [],
   "source": [
    "comb_dat.loc[comb_dat[\"xvals\"] == -np.inf, \"xvals\"] = -4.0  # We need to do this bc matplotlib d/n handle -inf properly\n",
    "comb_dat.loc[comb_dat[\"yvals\"] == -np.inf, \"yvals\"] = -4.0"
   ]
  },
  {
   "cell_type": "code",
   "execution_count": null,
   "metadata": {
    "collapsed": false
   },
   "outputs": [],
   "source": [
    "fig, ax = plt.subplots(subplot_kw=dict(axisbg='#EEEEEE'))\n",
    "ax.grid(color='white', linestyle='solid')\n",
    "\n",
    "slope = 0.001\n",
    "ax.plot(np.log10([0.00001, 1000000]), np.log10([slope * 0.00001, slope * 1000000]), linewidth=2.0,\n",
    "        c=\"gray\", zorder=1)\n",
    "\n",
    "scatter = ax.scatter(x=comb_dat[\"xvals\"],\n",
    "                     y=comb_dat[\"yvals\"],\n",
    "                     c=comb_dat[\"color\"],\n",
    "                     s=100,\n",
    "                     alpha=0.7,\n",
    "                     zorder=2)\n",
    "\n",
    "ax.set_title(\"Detection of B. anthracis in mixed samples\", size=18);\n",
    "ax.set_xlabel('Bacillus depth (log10)')\n",
    "ax.set_ylabel('B. anthracis depth (log10)')\n",
    "ax.set_xlim(0.48, 3.1)\n",
    "ax.set_ylim(-4.1, 2.8)\n",
    "\n",
    "ax.text(2.5, -0.15, '1:1000', fontsize=16, color=\"gray\")\n",
    "\n",
    "labels_html = ['<div class=\"nbtooltip\">%s<br><em>B. anthracis</em> depth: %.2f<br><em>Bacillus</em> depth: %.2f</div>' % \n",
    "               (vals[\"label\"], vals[\"mean_depth\"], vals[\"bacillus_depth\"]) for ix, vals in comb_dat.iterrows()]\n",
    "ext_links = [\"https://app.onecodex.com/markerpanel/public/%s\" % (x if pd.notnull(x) else '') for x in comb_dat[\"uuid\"]]\n",
    "plugins.connect(fig, PointHTMLExtendedTooltip(scatter, labels=labels_html,\n",
    "                                              ext_links=ext_links,\n",
    "                                              hoffset=5, voffset=15,\n",
    "                                              css=\".mpld3-figure path {cursor: pointer;}\"))\n",
    " "
   ]
  },
  {
   "cell_type": "code",
   "execution_count": null,
   "metadata": {
    "collapsed": true
   },
   "outputs": [],
   "source": [
    "fig.set_size_inches(8, 8)"
   ]
  },
  {
   "cell_type": "code",
   "execution_count": null,
   "metadata": {
    "collapsed": false
   },
   "outputs": [],
   "source": [
    "mpld3.display()"
   ]
  },
  {
   "cell_type": "code",
   "execution_count": null,
   "metadata": {
    "collapsed": false
   },
   "outputs": [],
   "source": [
    "with open('interactive_plot.html', 'w') as fo:\n",
    "    fo.write(mpld3.fig_to_html(fig, template_type=\"simple\"))"
   ]
  },
  {
   "cell_type": "code",
   "execution_count": null,
   "metadata": {
    "collapsed": true
   },
   "outputs": [],
   "source": []
  },
  {
   "cell_type": "code",
   "execution_count": null,
   "metadata": {
    "collapsed": true
   },
   "outputs": [],
   "source": []
  }
 ],
 "metadata": {
  "kernelspec": {
   "display_name": "Python 2",
   "language": "python",
   "name": "python2"
  },
  "language_info": {
   "codemirror_mode": {
    "name": "ipython",
    "version": 2
   },
   "file_extension": ".py",
   "mimetype": "text/x-python",
   "name": "python",
   "nbconvert_exporter": "python",
   "pygments_lexer": "ipython2",
   "version": "2.7.10"
  }
 },
 "nbformat": 4,
 "nbformat_minor": 0
}
